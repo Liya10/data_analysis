{
 "cells": [
  {
   "cell_type": "code",
   "execution_count": 1,
   "metadata": {},
   "outputs": [],
   "source": [
    "import numpy as np\n",
    "import scipy.linalg as la\n",
    "import scipy.interpolate as interp\n",
    "import matplotlib.pyplot as plt\n",
    "import scipy"
   ]
  },
  {
   "cell_type": "code",
   "execution_count": 2,
   "metadata": {},
   "outputs": [],
   "source": [
    "def SplineCoefs (x, y, num_of_nodes, Xk, aplha):\n",
    "    n = len(x)\n",
    "    e = np.eye (n)\n",
    "    Phi = np.zeros ((n,num_of_nodes+4)) # Matrix of basic functions\n",
    "    RegAlpha = np.eye (num_of_nodes+4) * alpha     \n",
    "    Phi = BasicFunctionsSpline (num_of_nodes, Xk, x) \n",
    "    PhiT = Phi.T\n",
    "    G = PhiT @ Phi + RegAlpha\n",
    "    z = PhiT @ y\n",
    "    a = np.linalg.solve(G, z)  \n",
    "    return a"
   ]
  },
  {
   "cell_type": "code",
   "execution_count": 3,
   "metadata": {},
   "outputs": [],
   "source": [
    "def SplineValues(a, x):\n",
    "    Phi = BasicFunctionsSpline (num_of_nodes, Xk, x)\n",
    "    values = Phi@a\n",
    "    return values"
   ]
  },
  {
   "cell_type": "code",
   "execution_count": 12,
   "metadata": {},
   "outputs": [],
   "source": [
    "def BasicFunctionsSpline (num_of_nodes, Xk, x):\n",
    "    m = num_of_nodes + 4 \n",
    "    PhiFunArray = np.zeros ((len(x), m)) # Matrix of basic functions\n",
    "    PhiFunArray [:,0] = 1 \n",
    "    PhiFunArray [:,1] = x\n",
    "    PhiFunArray [:,2] = x**2\n",
    "    PhiFunArray [:,3] = x**3\n",
    "    for k in range (0, num_of_nodes):\n",
    "        PhiFunArray [:,k+4] = 0.\n",
    "        for i in range (0, len(x)):\n",
    "            if (x[i]>Xk[k]):\n",
    "                PhiFunArray [i,k+4] = (x[i] - Xk[k])**3\n",
    "    return PhiFunArray"
   ]
  },
  {
   "cell_type": "code",
   "execution_count": 13,
   "metadata": {},
   "outputs": [],
   "source": [
    "xleft = 0; xright = 4*np.pi\n",
    "n = 100\n",
    "x = np.linspace(xleft,xright,n)\n",
    "yf=np.cos(x)+2*np.sin(x)"
   ]
  },
  {
   "cell_type": "code",
   "execution_count": 14,
   "metadata": {},
   "outputs": [],
   "source": [
    "Delta = 0.1 * np.random.randn(len(x))\n",
    "y = yf + Delta\n",
    "#y[3]=-2\n",
    "#y[45]=2"
   ]
  },
  {
   "cell_type": "code",
   "execution_count": 15,
   "metadata": {},
   "outputs": [],
   "source": [
    "num_of_nodes = 5\n",
    "\n",
    "Xk = np.zeros (num_of_nodes)"
   ]
  },
  {
   "cell_type": "code",
   "execution_count": 16,
   "metadata": {},
   "outputs": [],
   "source": [
    "dx = (xright - xleft)/(num_of_nodes+1)"
   ]
  },
  {
   "cell_type": "code",
   "execution_count": 17,
   "metadata": {},
   "outputs": [],
   "source": [
    "for k in range (0, num_of_nodes):\n",
    "    Xk[k] = xleft + dx*(k+1)"
   ]
  },
  {
   "cell_type": "code",
   "execution_count": 18,
   "metadata": {},
   "outputs": [
    {
     "name": "stdout",
     "output_type": "stream",
     "text": [
      "2.0943951023931953 [ 2.0943951   4.1887902   6.28318531  8.37758041 10.47197551]\n"
     ]
    }
   ],
   "source": [
    "print (dx, Xk)"
   ]
  },
  {
   "cell_type": "code",
   "execution_count": 19,
   "metadata": {},
   "outputs": [],
   "source": [
    "nplot = 100\n",
    "xplot = np.linspace(xleft,xright,nplot)\n",
    "yplot_exact =np.cos(xplot)+2*np.sin(xplot)"
   ]
  },
  {
   "cell_type": "code",
   "execution_count": 20,
   "metadata": {},
   "outputs": [],
   "source": [
    "alpha = 0.000\n",
    "\n",
    "a = SplineCoefs (x, y, num_of_nodes, Xk, alpha)"
   ]
  },
  {
   "cell_type": "code",
   "execution_count": 21,
   "metadata": {},
   "outputs": [],
   "source": [
    "ySpline = SplineValues(a, xplot)"
   ]
  },
  {
   "cell_type": "code",
   "execution_count": 23,
   "metadata": {},
   "outputs": [
    {
     "data": {
      "text/plain": [
       "<Figure size 432x288 with 0 Axes>"
      ]
     },
     "execution_count": 23,
     "metadata": {},
     "output_type": "execute_result"
    },
    {
     "data": {
      "image/png": "[encoded data removed]",
      "text/plain": [
       "<Figure size 432x288 with 1 Axes>"
      ]
     },
     "metadata": {
      "needs_background": "light"
     },
     "output_type": "display_data"
    },
    {
     "data": {
      "text/plain": [
       "<Figure size 432x288 with 0 Axes>"
      ]
     },
     "metadata": {},
     "output_type": "display_data"
    }
   ],
   "source": [
    "#plt.plot (x, y, 'o', color = 'orange',label=\"имперические данные\")\n",
    "plt.plot (xplot, ySpline, color = 'blue', label=\"Spline\")\n",
    "plt.plot (xplot, yplot_exact, color = 'red',label=\"истинное значение\")\n",
    "plt.legend(bbox_to_anchor=(1.1, 1))\n",
    "plt.figure()"
   ]
  },
  {
   "cell_type": "code",
   "execution_count": 24,
   "metadata": {},
   "outputs": [],
   "source": [
    "def SplineCoefsN (x, y, num_of_nodes, Xk, aplha):\n",
    "    n = len(x)\n",
    "    e = np.eye (n)\n",
    "    Phi = np.zeros ((n, num_of_nodes)) # Matrix of basic functions  \n",
    "    RegAlpha = np.eye (num_of_nodes) * alpha       \n",
    "    Phi = BasicFunctionsSplineN (num_of_nodes, Xk, x)  \n",
    "    PhiT = Phi.T\n",
    "    G = PhiT @ Phi + RegAlpha\n",
    "    z = PhiT @ y\n",
    "    a = np.linalg.solve(G, z)\n",
    "    return a\n",
    "def SplineValuesN(a, x):\n",
    "    Phi = BasicFunctionsSplineN (num_of_nodes, Xk, x)\n",
    "    values = Phi@a\n",
    "    return values\n",
    "def BasicFunctionsSplineN (num_of_nodes, Xk, x):\n",
    "    m = num_of_nodes \n",
    "    PhiFunArray = np.zeros ((len(x), m)) # Matrix of basic functions\n",
    "    Dkk = np.zeros ((len(x), m))\n",
    "    Dk = np.zeros ((len(x), m))\n",
    "    PhiFunArray [:,0] = 1 \n",
    "    PhiFunArray [:,1] = x  \n",
    "    for k in range (0, m):\n",
    "        Dkk [:,k] = 0.\n",
    "        for i in range (0, len(x)):\n",
    "            if (x[i]>Xk[k]):\n",
    "                Dkk [i,k] = (x[i] - Xk[k])**3         \n",
    "    for k in range (0, m-1):\n",
    "        Dk[:,k] = (Dkk [:,k] - Dkk [:,m-1])/(Xk[m-1]-Xk[k])\n",
    "    for k in range (0, m-2):#num_of_nodes-2):\n",
    "        PhiFunArray [:,k+2] = Dk[:,k] - Dk[:,m-2]#num_of_nodes-2]\n",
    "    return PhiFunArray"
   ]
  },
  {
   "cell_type": "code",
   "execution_count": 101,
   "metadata": {},
   "outputs": [
    {
     "data": {
      "text/plain": [
       "<Figure size 432x288 with 0 Axes>"
      ]
     },
     "execution_count": 101,
     "metadata": {},
     "output_type": "execute_result"
    },
    {
     "data": {
      "image/png": "[encoded data removed]",
      "text/plain": [
       "<Figure size 432x288 with 1 Axes>"
      ]
     },
     "metadata": {
      "needs_background": "light"
     },
     "output_type": "display_data"
    },
    {
     "data": {
      "text/plain": [
       "<Figure size 432x288 with 0 Axes>"
      ]
     },
     "metadata": {},
     "output_type": "display_data"
    }
   ],
   "source": [
    "alpha = 0.000\n",
    "Xk = np.zeros (num_of_nodes)\n",
    "dx = (xright - xleft)/(num_of_nodes+1)\n",
    "for k in range (0, num_of_nodes):\n",
    "    Xk[k] = xleft + dx*(k+1)\n",
    "nplot = 100\n",
    "xplot = np.linspace(xleft,xright,nplot)\n",
    "yplot_exact =np.cos(xplot)+2*np.sin(xplot)\n",
    "a = SplineCoefsN (x, y, num_of_nodes, Xk, alpha)\n",
    "ySpline = SplineValuesN(a, xplot)\n",
    "plt.plot (x, y, 'o', color = 'orange')\n",
    "plt.plot (xplot, ySpline, color = 'blue', label=\"Spline\")\n",
    "plt.plot (xplot, yplot_exact, color = 'red')\n",
    "plt.figure()"
   ]
  },
  {
   "cell_type": "code",
   "execution_count": null,
   "metadata": {},
   "outputs": [],
   "source": []
  },
  {
   "cell_type": "code",
   "execution_count": null,
   "metadata": {},
   "outputs": [],
   "source": []
  },
  {
   "cell_type": "code",
   "execution_count": null,
   "metadata": {},
   "outputs": [],
   "source": []
  },
  {
   "cell_type": "code",
   "execution_count": null,
   "metadata": {},
   "outputs": [],
   "source": []
  }
 ],
 "metadata": {
  "kernelspec": {
   "display_name": "Python 3",
   "language": "python",
   "name": "python3"
  },
  "language_info": {
   "codemirror_mode": {
    "name": "ipython",
    "version": 3
   },
   "file_extension": ".py",
   "mimetype": "text/x-python",
   "name": "python",
   "nbconvert_exporter": "python",
   "pygments_lexer": "ipython3",
   "version": "3.6.8"
  }
 },
 "nbformat": 4,
 "nbformat_minor": 2
}
